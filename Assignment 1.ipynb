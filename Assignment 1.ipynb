{
 "cells": [
  {
   "cell_type": "code",
   "execution_count": 5,
   "id": "7e222bec",
   "metadata": {},
   "outputs": [
    {
     "name": "stdout",
     "output_type": "stream",
     "text": [
      "<class 'int'>\n",
      "<class 'int'>\n",
      "<class 'float'>\n",
      "<class 'bool'>\n",
      "<class 'str'>\n",
      "[1, 2, 2.2, True, 'prasath', 2]\n",
      "[9, 1, 2, 2.2, True, 'prasath', 2]\n"
     ]
    }
   ],
   "source": [
    "#q1 list, tuple, set, dictionary\n",
    "l1=[1,2,2.2,True,\"prasath\"]\n",
    "for i in range(len(l1)):\n",
    "    print(type(l1[i]))\n",
    "l1.append(2)\n",
    "print(l1)\n",
    "l2=[9]\n",
    "l2.extend(l1)\n",
    "print(l2)"
   ]
  },
  {
   "cell_type": "code",
   "execution_count": 1,
   "id": "f78fac68",
   "metadata": {},
   "outputs": [
    {
     "name": "stdout",
     "output_type": "stream",
     "text": [
      "(1, 2, 3)\n",
      "1\n",
      "2\n",
      "3\n",
      "([1, 2, 3], True, False)\n",
      "([1, 2, 3, 3], True, False)\n"
     ]
    }
   ],
   "source": [
    "t1=(1,2,3)\n",
    "print(t1)\n",
    "for i in range(len(t1)):\n",
    "    print(t1[i])\n",
    "t2=([1,2,3],True,False)\n",
    "print(t2)\n",
    "t2[0].append(3)\n",
    "print(t2)"
   ]
  },
  {
   "cell_type": "code",
   "execution_count": 2,
   "id": "5217762d",
   "metadata": {},
   "outputs": [
    {
     "name": "stdout",
     "output_type": "stream",
     "text": [
      "Unordered set of elements {1, 2, 3, 4, 1.2, 77}\n",
      "{1, 2, 3, 4, 1.2, 5, 77}\n",
      "{1, 2, 3, 4, 1.2, 5, 77}\n"
     ]
    }
   ],
   "source": [
    "#sets\n",
    "s1={1,2,3,4,77,1.2}\n",
    "print(\"Unordered set of elements\",s1)\n",
    "#empty set\n",
    "s2=set()\n",
    "#adding elements\n",
    "s1.add(5)\n",
    "print(s1)\n",
    "#adding duplicates\n",
    "s1.add(4)\n",
    "print(s1)"
   ]
  },
  {
   "cell_type": "code",
   "execution_count": null,
   "id": "14da4642",
   "metadata": {},
   "outputs": [],
   "source": [
    "#dictionary\n",
    "dict1={\"name\":\"prasath\",\"age\":20}\n",
    "print(dict1)\n",
    "print(dict1[\"name\"])\n",
    "#adding a pair\n",
    "dict1[\"place\"]=\"chennai\"\n",
    "print(dict1)\n",
    "#updating an element\n",
    "dict1[\"age\"]=19\n",
    "print(dict1)"
   ]
  },
  {
   "cell_type": "code",
   "execution_count": 2,
   "id": "1c383ca9",
   "metadata": {},
   "outputs": [
    {
     "name": "stdout",
     "output_type": "stream",
     "text": [
      "content inside the file--> hello world\n",
      "Enter content to write into the file:hello world\n"
     ]
    }
   ],
   "source": [
    "#file operations\n",
    "#opening file in read mode\n",
    "f1=open('test.txt','r')\n",
    "print(\"content inside the file-->\",f1.read())\n",
    "\n",
    "f2=open('test2.txt','w')\n",
    "content=input(\"Enter content to write into the file:\")\n",
    "f2.write(content)\n",
    "f2.close()\n",
    "\n",
    "f3=open('test2.txt','a')\n",
    "f3.write('appended content to existing data in the file')\n",
    "f3.close()\n",
    "\n",
    "#closing the file\n",
    "f1.close()"
   ]
  },
  {
   "cell_type": "code",
   "execution_count": null,
   "id": "1a6374a3",
   "metadata": {},
   "outputs": [],
   "source": [
    "#calculator\n",
    "f1=open('test.txt','a+')\n",
    "def calculator():\n",
    "    operator = input(\"Enter an operator (+, -, *, /): \")\n",
    "\n",
    "    num1 = float(input(\"Enter the first number: \"))\n",
    "    num2 = float(input(\"Enter the second number: \"))\n",
    "\n",
    "    if operator == \"+\":\n",
    "        result = num1 + num2\n",
    "    elif operator == \"-\":\n",
    "        result = num1 - num2\n",
    "    elif operator == \"*\":\n",
    "        result = num1 * num2\n",
    "    elif operator == \"/\":\n",
    "        result = num1 / num2\n",
    "    else:\n",
    "        print(\"Invalid operator\")\n",
    "        return\n",
    "    print(f\"{num1} {operator} {num2} = {result}\")\n",
    "    f1.write(str(num1)+\" \"+operator+\" \"+str(num2)+\"=\"+str(result))\n",
    "    f1.close()\n",
    "\n",
    "# Call the calculator function\n",
    "calculator()"
   ]
  },
  {
   "cell_type": "code",
   "execution_count": null,
   "id": "bf623920",
   "metadata": {},
   "outputs": [],
   "source": []
  }
 ],
 "metadata": {
  "kernelspec": {
   "display_name": "Python 3 (ipykernel)",
   "language": "python",
   "name": "python3"
  },
  "language_info": {
   "codemirror_mode": {
    "name": "ipython",
    "version": 3
   },
   "file_extension": ".py",
   "mimetype": "text/x-python",
   "name": "python",
   "nbconvert_exporter": "python",
   "pygments_lexer": "ipython3",
   "version": "3.11.1"
  }
 },
 "nbformat": 4,
 "nbformat_minor": 5
}
